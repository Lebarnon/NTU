{
 "cells": [
  {
   "cell_type": "code",
   "execution_count": 1,
   "metadata": {},
   "outputs": [
    {
     "name": "stdout",
     "output_type": "stream",
     "text": [
      "Collecting findspark\n",
      "  Downloading findspark-2.0.1-py2.py3-none-any.whl.metadata (352 bytes)\n",
      "Downloading findspark-2.0.1-py2.py3-none-any.whl (4.4 kB)\n",
      "Installing collected packages: findspark\n",
      "Successfully installed findspark-2.0.1\n",
      "Collecting pyspark\n",
      "  Downloading pyspark-3.5.1.tar.gz (317.0 MB)\n",
      "\u001b[2K     \u001b[90m━━━━━━━━━━━━━━━━━━━━━━━━━━━━━━━━━━━━━━━\u001b[0m \u001b[32m317.0/317.0 MB\u001b[0m \u001b[31m9.5 MB/s\u001b[0m eta \u001b[36m0:00:00\u001b[0m00:01\u001b[0m00:01\u001b[0m\n",
      "\u001b[?25h  Preparing metadata (setup.py) ... \u001b[?25ldone\n",
      "\u001b[?25hCollecting py4j==0.10.9.7 (from pyspark)\n",
      "  Downloading py4j-0.10.9.7-py2.py3-none-any.whl.metadata (1.5 kB)\n",
      "Downloading py4j-0.10.9.7-py2.py3-none-any.whl (200 kB)\n",
      "\u001b[2K   \u001b[90m━━━━━━━━━━━━━━━━━━━━━━━━━━━━━━━━━━━━━━━━\u001b[0m \u001b[32m200.5/200.5 kB\u001b[0m \u001b[31m13.8 MB/s\u001b[0m eta \u001b[36m0:00:00\u001b[0m\n",
      "\u001b[?25hBuilding wheels for collected packages: pyspark\n",
      "  Building wheel for pyspark (setup.py) ... \u001b[?25ldone\n",
      "\u001b[?25h  Created wheel for pyspark: filename=pyspark-3.5.1-py2.py3-none-any.whl size=317488491 sha256=6b6ba02c757c4415fd29f4f6dc2e2a564c3362098b4244304edb8c5396119e5c\n",
      "  Stored in directory: /Users/lenson/Library/Caches/pip/wheels/95/13/41/f7f135ee114175605fb4f0a89e7389f3742aa6c1e1a5bcb657\n",
      "Successfully built pyspark\n",
      "Installing collected packages: py4j, pyspark\n",
      "Successfully installed py4j-0.10.9.7 pyspark-3.5.1\n"
     ]
    }
   ],
   "source": [
    "!pip install findspark\n",
    "!pip install pyspark"
   ]
  },
  {
   "cell_type": "code",
   "execution_count": 1,
   "metadata": {},
   "outputs": [
    {
     "name": "stderr",
     "output_type": "stream",
     "text": [
      "Setting default log level to \"WARN\".\n",
      "To adjust logging level use sc.setLogLevel(newLevel). For SparkR, use setLogLevel(newLevel).\n",
      "24/03/24 12:02:37 WARN NativeCodeLoader: Unable to load native-hadoop library for your platform... using builtin-java classes where applicable\n"
     ]
    },
    {
     "name": "stderr",
     "output_type": "stream",
     "text": [
      "----------------------------------------\n",
      "Exception occurred during processing of request from ('127.0.0.1', 53758)\n",
      "Traceback (most recent call last):\n",
      "  File \"/Users/lenson/Documents/GitHub/NTU/SC4052-CloudComputing/Assignment2/.conda/lib/python3.11/socketserver.py\", line 317, in _handle_request_noblock\n",
      "    self.process_request(request, client_address)\n",
      "  File \"/Users/lenson/Documents/GitHub/NTU/SC4052-CloudComputing/Assignment2/.conda/lib/python3.11/socketserver.py\", line 348, in process_request\n",
      "    self.finish_request(request, client_address)\n",
      "  File \"/Users/lenson/Documents/GitHub/NTU/SC4052-CloudComputing/Assignment2/.conda/lib/python3.11/socketserver.py\", line 361, in finish_request\n",
      "    self.RequestHandlerClass(request, client_address, self)\n",
      "  File \"/Users/lenson/Documents/GitHub/NTU/SC4052-CloudComputing/Assignment2/.conda/lib/python3.11/socketserver.py\", line 755, in __init__\n",
      "    self.handle()\n",
      "  File \"/Users/lenson/Documents/GitHub/NTU/SC4052-CloudComputing/Assignment2/.conda/lib/python3.11/site-packages/pyspark/accumulators.py\", line 295, in handle\n",
      "    poll(accum_updates)\n",
      "  File \"/Users/lenson/Documents/GitHub/NTU/SC4052-CloudComputing/Assignment2/.conda/lib/python3.11/site-packages/pyspark/accumulators.py\", line 267, in poll\n",
      "    if self.rfile in r and func():\n",
      "                           ^^^^^^\n",
      "  File \"/Users/lenson/Documents/GitHub/NTU/SC4052-CloudComputing/Assignment2/.conda/lib/python3.11/site-packages/pyspark/accumulators.py\", line 271, in accum_updates\n",
      "    num_updates = read_int(self.rfile)\n",
      "                  ^^^^^^^^^^^^^^^^^^^^\n",
      "  File \"/Users/lenson/Documents/GitHub/NTU/SC4052-CloudComputing/Assignment2/.conda/lib/python3.11/site-packages/pyspark/serializers.py\", line 596, in read_int\n",
      "    raise EOFError\n",
      "EOFError\n",
      "----------------------------------------\n"
     ]
    }
   ],
   "source": [
    "import findspark\n",
    "\n",
    "# Set up the necessary environment variables and adding the required dependencies to the Python path\n",
    "findspark.init()\n",
    "# Locate a local Spark installation.\n",
    "findspark.find()\n",
    "\n",
    "from pyspark.sql import SparkSession\n",
    "\n",
    "# Initializes and returns a SparkSession object.\n",
    "spark:SparkSession = SparkSession.builder \\\n",
    "    .master(\"local[8]\") \\\n",
    "    .appName(\"assignment2\") \\\n",
    "    .getOrCreate()\n",
    "\n",
    "sc = spark.sparkContext"
   ]
  },
  {
   "cell_type": "code",
   "execution_count": 78,
   "metadata": {},
   "outputs": [],
   "source": [
    "from pyspark.mllib.linalg.distributed import IndexedRow, IndexedRowMatrix\n",
    "import numpy as np\n",
    "\n",
    "b = 0.80\n",
    "n = 4\n",
    "matrix = [\n",
    "    [0, 1/2, 0, 0], \n",
    "    [1/3, 0, 0, 1/2], \n",
    "    [1/3, 0, 1, 1/2], \n",
    "    [1/3, 1/2, 0, 0]]"
   ]
  },
  {
   "cell_type": "code",
   "execution_count": 73,
   "metadata": {},
   "outputs": [
    {
     "name": "stderr",
     "output_type": "stream",
     "text": [
      "                                                                                \r"
     ]
    },
    {
     "name": "stdout",
     "output_type": "stream",
     "text": [
      "[[0.         0.5        0.         0.        ]\n",
      " [0.33333333 0.         0.         0.5       ]\n",
      " [0.33333333 0.         1.         0.5       ]\n",
      " [0.33333333 0.5        0.         0.        ]]\n",
      "[[0.25 0.25 0.25 0.25]]\n"
     ]
    },
    {
     "name": "stderr",
     "output_type": "stream",
     "text": [
      "                                                                                \r"
     ]
    },
    {
     "name": "stdout",
     "output_type": "stream",
     "text": [
      "[[0.8 0.  0.  0. ]\n",
      " [0.  0.8 0.  0. ]\n",
      " [0.  0.  0.8 0. ]\n",
      " [0.  0.  0.  0.8]]\n",
      "[[0.05 0.05 0.05 0.05]]\n"
     ]
    }
   ],
   "source": [
    "initalRanks = sc.parallelize([[1/n]*n]).zipWithIndex()\n",
    "initialB = sc.parallelize(np.diag([b]*n)).zipWithIndex()\n",
    "initialJump = sc.parallelize([[(1-b)/n]*n]).zipWithIndex()\n",
    "initialMatrix = sc.parallelize(matrix).zipWithIndex()\n",
    "\n",
    "transitionMatrix =  IndexedRowMatrix( \\\n",
    "    initialMatrix \\\n",
    "    .map(lambda row: IndexedRow(row[1], row[0])) \\\n",
    "    ).toBlockMatrix()\n",
    "\n",
    "ranks =  IndexedRowMatrix( \\\n",
    "    initalRanks \\\n",
    "    .map(lambda x: IndexedRow(x[1], x[0])) \\\n",
    "    ).toBlockMatrix()\n",
    "\n",
    "b =  IndexedRowMatrix( \\\n",
    "    initialB \\\n",
    "    .map(lambda x: IndexedRow(x[1], x[0])) \\\n",
    "    ).toBlockMatrix()\n",
    "\n",
    "jump = IndexedRowMatrix( \\\n",
    "    initialJump \\\n",
    "    .map(lambda x: IndexedRow(x[1], x[0])) \\\n",
    "    ).toBlockMatrix()\n",
    "\n",
    "print(transitionMatrix.toLocalMatrix().toArray())\n",
    "print(ranks.toLocalMatrix().toArray())\n",
    "print(b.toLocalMatrix().toArray())\n",
    "print(jump.toLocalMatrix().toArray())"
   ]
  },
  {
   "cell_type": "code",
   "execution_count": 76,
   "metadata": {},
   "outputs": [
    {
     "name": "stdout",
     "output_type": "stream",
     "text": [
      "[[0.10135135]\n",
      " [0.12837838]\n",
      " [0.64189189]\n",
      " [0.12837838]] 69\n"
     ]
    }
   ],
   "source": [
    "ranksT = ranks.transpose() # vertical vector of ranks\n",
    "jumpT = jump.transpose() # vertical vector of jump\n",
    "numOfIterations = 0 # number of iterations\n",
    "while True:\n",
    "    numOfIterations += 1\n",
    "    # newRanks = b * transitionMatrix ⋅ ranksT + jumpT\n",
    "    newRanks = transitionMatrix.multiply(b).multiply(ranksT).add(jumpT)\n",
    "    if np.equal(newRanks.toLocalMatrix().toArray(), ranksT.toLocalMatrix().toArray()).all():\n",
    "        break\n",
    "    ranksT = newRanks\n",
    "# print the result\n",
    "print(ranksT.toLocalMatrix().toArray(), numOfIterations)"
   ]
  }
 ],
 "metadata": {
  "kernelspec": {
   "display_name": "Python 3",
   "language": "python",
   "name": "python3"
  },
  "language_info": {
   "codemirror_mode": {
    "name": "ipython",
    "version": 3
   },
   "file_extension": ".py",
   "mimetype": "text/x-python",
   "name": "python",
   "nbconvert_exporter": "python",
   "pygments_lexer": "ipython3",
   "version": "3.11.8"
  }
 },
 "nbformat": 4,
 "nbformat_minor": 2
}
