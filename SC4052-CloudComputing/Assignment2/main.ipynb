{
 "cells": [
  {
   "cell_type": "code",
   "execution_count": 1,
   "metadata": {},
   "outputs": [
    {
     "name": "stdout",
     "output_type": "stream",
     "text": [
      "Collecting numpy\n",
      "  Using cached numpy-1.26.4-cp311-cp311-macosx_11_0_arm64.whl.metadata (114 kB)\n",
      "Using cached numpy-1.26.4-cp311-cp311-macosx_11_0_arm64.whl (14.0 MB)\n",
      "Installing collected packages: numpy\n",
      "Successfully installed numpy-1.26.4\n"
     ]
    }
   ],
   "source": [
    "!pip install numpy"
   ]
  },
  {
   "cell_type": "code",
   "execution_count": 2,
   "metadata": {},
   "outputs": [],
   "source": [
    "import numpy as np"
   ]
  },
  {
   "cell_type": "code",
   "execution_count": 36,
   "metadata": {},
   "outputs": [],
   "source": [
    "b = 0.8 # probability of not jumping\n",
    "n = 4 # number of nodes\n",
    "transitionMatrix = np.array([\n",
    "    [0, 1/2, 0, 0], \n",
    "    [1/3, 0, 0, 1/2], \n",
    "    [1/3, 0, 1, 1/2], \n",
    "    [1/3, 1/2, 0, 0]])\n",
    "vInitial = np.array([1/n, 1/n, 1/n, 1/n]) # initial distribution"
   ]
  },
  {
   "cell_type": "code",
   "execution_count": 25,
   "metadata": {},
   "outputs": [
    {
     "name": "stdout",
     "output_type": "stream",
     "text": [
      "[0.10135339 0.12838135 0.64188392 0.12838135] 20\n"
     ]
    }
   ],
   "source": [
    "v = vInitial\n",
    "tolerance = 1e-6\n",
    "converged = False\n",
    "numOfIterations = 0\n",
    "while not converged:\n",
    "    numOfIterations += 1\n",
    "    newV = b * np.dot(transitionMatrix, v) + (1 - b) / n\n",
    "    if np.allclose(newV, v, atol=tolerance):\n",
    "        converged = True\n",
    "    v = newV\n",
    "print(v, numOfIterations)"
   ]
  },
  {
   "cell_type": "code",
   "execution_count": 31,
   "metadata": {},
   "outputs": [
    {
     "name": "stdout",
     "output_type": "stream",
     "text": [
      "[[ 0.26666667 -0.8        -0.8        -0.8       ]\n",
      " [-0.8         0.26666667 -0.8        -0.8       ]\n",
      " [-0.8        -0.8         0.26666667 -0.8       ]\n",
      " [-0.8        -0.8        -0.8         0.26666667]]\n"
     ]
    }
   ],
   "source": [
    "v = vInitial\n",
    "# closed form\n",
    "ans = np.dot((np.identity(4) - np.dot(v, transitionMatrix))**-1, 1-b)\n",
    "print(ans)"
   ]
  },
  {
   "cell_type": "code",
   "execution_count": 45,
   "metadata": {},
   "outputs": [
    {
     "name": "stdout",
     "output_type": "stream",
     "text": [
      "[0.10135135 0.12837838 0.64189189 0.12837838]\n"
     ]
    }
   ],
   "source": [
    "# closed form calculation for the page rank algorithm of modified version of pagerank\n",
    "v = vInitial\n",
    "ans = np.linalg.inv(np.identity(4) - b * transitionMatrix) * (1 - b)\n",
    "result = np.dot(ans, v)\n",
    "print(result)"
   ]
  },
  {
   "cell_type": "code",
   "execution_count": 26,
   "metadata": {},
   "outputs": [
    {
     "name": "stdout",
     "output_type": "stream",
     "text": [
      "0.9999999999999998\n"
     ]
    }
   ],
   "source": [
    "print(sum(v))"
   ]
  },
  {
   "cell_type": "code",
   "execution_count": 7,
   "metadata": {},
   "outputs": [
    {
     "name": "stdout",
     "output_type": "stream",
     "text": [
      "0.10135135135135136 0.12837837837837837 0.6418918918918919 0.12837837837837837\n"
     ]
    }
   ],
   "source": [
    "print(15/148, 19/148, 95/148, 19/148)"
   ]
  },
  {
   "cell_type": "code",
   "execution_count": null,
   "metadata": {},
   "outputs": [],
   "source": [
    "b = 0.8 # probability of not jumping\n",
    "n = 4 # number of nodes\n",
    "\n",
    "# Generate matrix\n",
    "transitionMatrix = np.array([\n",
    "    [0, 1/2, 0, 0], \n",
    "    [1/3, 0, 0, 1/2], \n",
    "    [1/3, 0, 1, 1/2], \n",
    "    [1/3, 1/2, 0, 0]])\n",
    "\n",
    "# TODO: how to determine initial distribution?\n",
    "vInitial = np.array([1/n, 1/n, 1/n, 1/n]) # initial distribution"
   ]
  }
 ],
 "metadata": {
  "kernelspec": {
   "display_name": "Python 3",
   "language": "python",
   "name": "python3"
  },
  "language_info": {
   "codemirror_mode": {
    "name": "ipython",
    "version": 3
   },
   "file_extension": ".py",
   "mimetype": "text/x-python",
   "name": "python",
   "nbconvert_exporter": "python",
   "pygments_lexer": "ipython3",
   "version": "3.11.8"
  }
 },
 "nbformat": 4,
 "nbformat_minor": 2
}
