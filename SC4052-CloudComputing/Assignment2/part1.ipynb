{
 "cells": [
  {
   "cell_type": "code",
   "execution_count": 7,
   "metadata": {},
   "outputs": [
    {
     "name": "stdout",
     "output_type": "stream",
     "text": [
      "Requirement already satisfied: numpy in ./.conda/lib/python3.11/site-packages (1.26.4)\n"
     ]
    }
   ],
   "source": [
    "!pip install numpy"
   ]
  },
  {
   "cell_type": "code",
   "execution_count": 8,
   "metadata": {},
   "outputs": [],
   "source": [
    "import numpy as np\n",
    "import time"
   ]
  },
  {
   "cell_type": "code",
   "execution_count": 9,
   "metadata": {},
   "outputs": [],
   "source": [
    "b = 0.15 # probability of jumping\n",
    "n = 4 # number of nodes\n",
    "transitionMatrix = np.array([\n",
    "    [0, 1/2, 0, 0], \n",
    "    [1/3, 0, 0, 1/2], \n",
    "    [1/3, 0, 1, 1/2], \n",
    "    [1/3, 1/2, 0, 0]])\n",
    "vInitial = np.array([1/n, 1/n, 1/n, 1/n]) # initial distribution"
   ]
  },
  {
   "cell_type": "code",
   "execution_count": 10,
   "metadata": {},
   "outputs": [],
   "source": [
    "# Iterative computation of the PageRank Algorithm\n",
    "def iterativePageRank(transitionMatrix, v, b, n):\n",
    "    numOfIterations = 0\n",
    "    startTime = time.time()\n",
    "    while True:\n",
    "        numOfIterations += 1\n",
    "        newV = (1 - b) * np.dot(transitionMatrix, v) +  (b / n)\n",
    "        if np.equal(newV, v).all():\n",
    "            break\n",
    "        v = newV\n",
    "    print(\"Time taken for iterative computation: \", time.time() - startTime)\n",
    "    return v, numOfIterations"
   ]
  },
  {
   "cell_type": "code",
   "execution_count": 12,
   "metadata": {},
   "outputs": [],
   "source": [
    "# Closed form computation of the PageRank Algorithm\n",
    "def closedFormPageRank(transitionMatrix, v, b, n):\n",
    "    startTime = time.time()\n",
    "    ans = np.linalg.inv(np.identity(n) - (1 - b) * transitionMatrix) * (b)\n",
    "    result = np.dot(ans, v)\n",
    "    print(\"Time taken for closed form computation: \", time.time() - startTime)\n",
    "    return result"
   ]
  },
  {
   "cell_type": "code",
   "execution_count": 13,
   "metadata": {},
   "outputs": [
    {
     "name": "stdout",
     "output_type": "stream",
     "text": [
      "Time taken for iterative computation:  0.0006661415100097656\n",
      "Time taken for closed form computation:  0.0002970695495605469\n",
      "77\n",
      "[0.08249313 0.10586618 0.70577452 0.10586618]\n",
      "[0.08249313 0.10586618 0.70577452 0.10586618]\n",
      "True\n"
     ]
    }
   ],
   "source": [
    "recursiveResult, numOfIterations = iterativePageRank(transitionMatrix, vInitial, b, n)\n",
    "closedFormResult = closedFormPageRank(transitionMatrix, vInitial, b, n)\n",
    "\n",
    "print(numOfIterations)\n",
    "print(recursiveResult[:10])\n",
    "print(closedFormResult[:10])\n",
    "# check if the results are similar\n",
    "print(np.allclose(recursiveResult, closedFormResult, atol=1e-10))"
   ]
  },
  {
   "cell_type": "code",
   "execution_count": 14,
   "metadata": {},
   "outputs": [],
   "source": [
    "# Larger graphs\n",
    "b = 0.15 # probability of jumping\n",
    "n = 10000 # number of nodes\n",
    "transitionMatrix = np.random.rand(n, n)\n",
    "for i in range(n):\n",
    "    for j in range(n):\n",
    "        if np.random.rand() < 0.95:\n",
    "            transitionMatrix[i][j] = 0\n",
    "transitionMatrix = transitionMatrix / transitionMatrix.sum(axis=0)\n",
    "\n",
    "# initial distribution\n",
    "vInitial = np.array([1/n] * n) "
   ]
  },
  {
   "cell_type": "code",
   "execution_count": 15,
   "metadata": {},
   "outputs": [
    {
     "name": "stdout",
     "output_type": "stream",
     "text": [
      "Time taken for iterative computation:  3.935762882232666\n",
      "Time taken for closed form computation:  61.46016597747803\n",
      "83\n",
      "[9.66755871e-05 9.91452468e-05 1.06062885e-04 9.45383695e-05\n",
      " 9.88298410e-05 9.48952596e-05 9.67163627e-05 1.06322583e-04\n",
      " 1.04952481e-04 1.02118561e-04]\n",
      "[9.66755871e-05 9.91452468e-05 1.06062885e-04 9.45383695e-05\n",
      " 9.88298410e-05 9.48952596e-05 9.67163627e-05 1.06322583e-04\n",
      " 1.04952481e-04 1.02118561e-04]\n",
      "True\n"
     ]
    }
   ],
   "source": [
    "recursiveResult, numOfIterations = iterativePageRank(transitionMatrix, vInitial, b, n)\n",
    "closedFormResult = closedFormPageRank(transitionMatrix, vInitial, b, n)\n",
    "\n",
    "print(numOfIterations)\n",
    "print(recursiveResult[:10])\n",
    "print(closedFormResult[:10])\n",
    "# check if the results are similar\n",
    "print(np.allclose(recursiveResult, closedFormResult, atol=1e-10))\n",
    "\n"
   ]
  }
 ],
 "metadata": {
  "kernelspec": {
   "display_name": "Python 3",
   "language": "python",
   "name": "python3"
  },
  "language_info": {
   "codemirror_mode": {
    "name": "ipython",
    "version": 3
   },
   "file_extension": ".py",
   "mimetype": "text/x-python",
   "name": "python",
   "nbconvert_exporter": "python",
   "pygments_lexer": "ipython3",
   "version": "3.11.8"
  }
 },
 "nbformat": 4,
 "nbformat_minor": 2
}
