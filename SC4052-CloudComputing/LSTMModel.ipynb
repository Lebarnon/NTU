{
  "cells": [
    {
      "cell_type": "code",
      "execution_count": 1,
      "metadata": {},
      "outputs": [
        {
          "name": "stdout",
          "output_type": "stream",
          "text": [
            "Requirement already satisfied: pandas in ./.conda/lib/python3.11/site-packages (2.2.1)\n",
            "Requirement already satisfied: numpy<2,>=1.23.2 in ./.conda/lib/python3.11/site-packages (from pandas) (1.26.4)\n",
            "Requirement already satisfied: python-dateutil>=2.8.2 in ./.conda/lib/python3.11/site-packages (from pandas) (2.8.2)\n",
            "Requirement already satisfied: pytz>=2020.1 in ./.conda/lib/python3.11/site-packages (from pandas) (2024.1)\n",
            "Requirement already satisfied: tzdata>=2022.7 in ./.conda/lib/python3.11/site-packages (from pandas) (2024.1)\n",
            "Requirement already satisfied: six>=1.5 in ./.conda/lib/python3.11/site-packages (from python-dateutil>=2.8.2->pandas) (1.16.0)\n",
            "Requirement already satisfied: numpy in ./.conda/lib/python3.11/site-packages (1.26.4)\n",
            "Requirement already satisfied: matplotlib in ./.conda/lib/python3.11/site-packages (3.8.3)\n",
            "Requirement already satisfied: contourpy>=1.0.1 in ./.conda/lib/python3.11/site-packages (from matplotlib) (1.2.0)\n",
            "Requirement already satisfied: cycler>=0.10 in ./.conda/lib/python3.11/site-packages (from matplotlib) (0.12.1)\n",
            "Requirement already satisfied: fonttools>=4.22.0 in ./.conda/lib/python3.11/site-packages (from matplotlib) (4.49.0)\n",
            "Requirement already satisfied: kiwisolver>=1.3.1 in ./.conda/lib/python3.11/site-packages (from matplotlib) (1.4.5)\n",
            "Requirement already satisfied: numpy<2,>=1.21 in ./.conda/lib/python3.11/site-packages (from matplotlib) (1.26.4)\n",
            "Requirement already satisfied: packaging>=20.0 in ./.conda/lib/python3.11/site-packages (from matplotlib) (23.2)\n",
            "Requirement already satisfied: pillow>=8 in ./.conda/lib/python3.11/site-packages (from matplotlib) (10.2.0)\n",
            "Requirement already satisfied: pyparsing>=2.3.1 in ./.conda/lib/python3.11/site-packages (from matplotlib) (3.1.1)\n",
            "Requirement already satisfied: python-dateutil>=2.7 in ./.conda/lib/python3.11/site-packages (from matplotlib) (2.8.2)\n",
            "Requirement already satisfied: six>=1.5 in ./.conda/lib/python3.11/site-packages (from python-dateutil>=2.7->matplotlib) (1.16.0)\n",
            "Requirement already satisfied: scikit-learn in ./.conda/lib/python3.11/site-packages (1.4.1.post1)\n",
            "Requirement already satisfied: numpy<2.0,>=1.19.5 in ./.conda/lib/python3.11/site-packages (from scikit-learn) (1.26.4)\n",
            "Requirement already satisfied: scipy>=1.6.0 in ./.conda/lib/python3.11/site-packages (from scikit-learn) (1.12.0)\n",
            "Requirement already satisfied: joblib>=1.2.0 in ./.conda/lib/python3.11/site-packages (from scikit-learn) (1.3.2)\n",
            "Requirement already satisfied: threadpoolctl>=2.0.0 in ./.conda/lib/python3.11/site-packages (from scikit-learn) (3.3.0)\n",
            "Requirement already satisfied: tensorflow in ./.conda/lib/python3.11/site-packages (2.15.0)\n",
            "Requirement already satisfied: tensorflow-macos==2.15.0 in ./.conda/lib/python3.11/site-packages (from tensorflow) (2.15.0)\n",
            "Requirement already satisfied: absl-py>=1.0.0 in ./.conda/lib/python3.11/site-packages (from tensorflow-macos==2.15.0->tensorflow) (2.1.0)\n",
            "Requirement already satisfied: astunparse>=1.6.0 in ./.conda/lib/python3.11/site-packages (from tensorflow-macos==2.15.0->tensorflow) (1.6.3)\n",
            "Requirement already satisfied: flatbuffers>=23.5.26 in ./.conda/lib/python3.11/site-packages (from tensorflow-macos==2.15.0->tensorflow) (23.5.26)\n",
            "Requirement already satisfied: gast!=0.5.0,!=0.5.1,!=0.5.2,>=0.2.1 in ./.conda/lib/python3.11/site-packages (from tensorflow-macos==2.15.0->tensorflow) (0.5.4)\n",
            "Requirement already satisfied: google-pasta>=0.1.1 in ./.conda/lib/python3.11/site-packages (from tensorflow-macos==2.15.0->tensorflow) (0.2.0)\n",
            "Requirement already satisfied: h5py>=2.9.0 in ./.conda/lib/python3.11/site-packages (from tensorflow-macos==2.15.0->tensorflow) (3.10.0)\n",
            "Requirement already satisfied: libclang>=13.0.0 in ./.conda/lib/python3.11/site-packages (from tensorflow-macos==2.15.0->tensorflow) (16.0.6)\n",
            "Requirement already satisfied: ml-dtypes~=0.2.0 in ./.conda/lib/python3.11/site-packages (from tensorflow-macos==2.15.0->tensorflow) (0.2.0)\n",
            "Requirement already satisfied: numpy<2.0.0,>=1.23.5 in ./.conda/lib/python3.11/site-packages (from tensorflow-macos==2.15.0->tensorflow) (1.26.4)\n",
            "Requirement already satisfied: opt-einsum>=2.3.2 in ./.conda/lib/python3.11/site-packages (from tensorflow-macos==2.15.0->tensorflow) (3.3.0)\n",
            "Requirement already satisfied: packaging in ./.conda/lib/python3.11/site-packages (from tensorflow-macos==2.15.0->tensorflow) (23.2)\n",
            "Requirement already satisfied: protobuf!=4.21.0,!=4.21.1,!=4.21.2,!=4.21.3,!=4.21.4,!=4.21.5,<5.0.0dev,>=3.20.3 in ./.conda/lib/python3.11/site-packages (from tensorflow-macos==2.15.0->tensorflow) (4.25.3)\n",
            "Requirement already satisfied: setuptools in ./.conda/lib/python3.11/site-packages (from tensorflow-macos==2.15.0->tensorflow) (68.2.2)\n",
            "Requirement already satisfied: six>=1.12.0 in ./.conda/lib/python3.11/site-packages (from tensorflow-macos==2.15.0->tensorflow) (1.16.0)\n",
            "Requirement already satisfied: termcolor>=1.1.0 in ./.conda/lib/python3.11/site-packages (from tensorflow-macos==2.15.0->tensorflow) (2.4.0)\n",
            "Requirement already satisfied: typing-extensions>=3.6.6 in ./.conda/lib/python3.11/site-packages (from tensorflow-macos==2.15.0->tensorflow) (4.9.0)\n",
            "Requirement already satisfied: wrapt<1.15,>=1.11.0 in ./.conda/lib/python3.11/site-packages (from tensorflow-macos==2.15.0->tensorflow) (1.14.1)\n",
            "Requirement already satisfied: tensorflow-io-gcs-filesystem>=0.23.1 in ./.conda/lib/python3.11/site-packages (from tensorflow-macos==2.15.0->tensorflow) (0.36.0)\n",
            "Requirement already satisfied: grpcio<2.0,>=1.24.3 in ./.conda/lib/python3.11/site-packages (from tensorflow-macos==2.15.0->tensorflow) (1.62.0)\n",
            "Requirement already satisfied: tensorboard<2.16,>=2.15 in ./.conda/lib/python3.11/site-packages (from tensorflow-macos==2.15.0->tensorflow) (2.15.2)\n",
            "Requirement already satisfied: tensorflow-estimator<2.16,>=2.15.0 in ./.conda/lib/python3.11/site-packages (from tensorflow-macos==2.15.0->tensorflow) (2.15.0)\n",
            "Requirement already satisfied: keras<2.16,>=2.15.0 in ./.conda/lib/python3.11/site-packages (from tensorflow-macos==2.15.0->tensorflow) (2.15.0)\n",
            "Requirement already satisfied: wheel<1.0,>=0.23.0 in ./.conda/lib/python3.11/site-packages (from astunparse>=1.6.0->tensorflow-macos==2.15.0->tensorflow) (0.41.2)\n",
            "Requirement already satisfied: google-auth<3,>=1.6.3 in ./.conda/lib/python3.11/site-packages (from tensorboard<2.16,>=2.15->tensorflow-macos==2.15.0->tensorflow) (2.28.1)\n",
            "Requirement already satisfied: google-auth-oauthlib<2,>=0.5 in ./.conda/lib/python3.11/site-packages (from tensorboard<2.16,>=2.15->tensorflow-macos==2.15.0->tensorflow) (1.2.0)\n",
            "Requirement already satisfied: markdown>=2.6.8 in ./.conda/lib/python3.11/site-packages (from tensorboard<2.16,>=2.15->tensorflow-macos==2.15.0->tensorflow) (3.5.2)\n",
            "Requirement already satisfied: requests<3,>=2.21.0 in ./.conda/lib/python3.11/site-packages (from tensorboard<2.16,>=2.15->tensorflow-macos==2.15.0->tensorflow) (2.31.0)\n",
            "Requirement already satisfied: tensorboard-data-server<0.8.0,>=0.7.0 in ./.conda/lib/python3.11/site-packages (from tensorboard<2.16,>=2.15->tensorflow-macos==2.15.0->tensorflow) (0.7.2)\n",
            "Requirement already satisfied: werkzeug>=1.0.1 in ./.conda/lib/python3.11/site-packages (from tensorboard<2.16,>=2.15->tensorflow-macos==2.15.0->tensorflow) (3.0.1)\n",
            "Requirement already satisfied: cachetools<6.0,>=2.0.0 in ./.conda/lib/python3.11/site-packages (from google-auth<3,>=1.6.3->tensorboard<2.16,>=2.15->tensorflow-macos==2.15.0->tensorflow) (5.3.2)\n",
            "Requirement already satisfied: pyasn1-modules>=0.2.1 in ./.conda/lib/python3.11/site-packages (from google-auth<3,>=1.6.3->tensorboard<2.16,>=2.15->tensorflow-macos==2.15.0->tensorflow) (0.3.0)\n",
            "Requirement already satisfied: rsa<5,>=3.1.4 in ./.conda/lib/python3.11/site-packages (from google-auth<3,>=1.6.3->tensorboard<2.16,>=2.15->tensorflow-macos==2.15.0->tensorflow) (4.9)\n",
            "Requirement already satisfied: requests-oauthlib>=0.7.0 in ./.conda/lib/python3.11/site-packages (from google-auth-oauthlib<2,>=0.5->tensorboard<2.16,>=2.15->tensorflow-macos==2.15.0->tensorflow) (1.3.1)\n",
            "Requirement already satisfied: charset-normalizer<4,>=2 in ./.conda/lib/python3.11/site-packages (from requests<3,>=2.21.0->tensorboard<2.16,>=2.15->tensorflow-macos==2.15.0->tensorflow) (3.3.2)\n",
            "Requirement already satisfied: idna<4,>=2.5 in ./.conda/lib/python3.11/site-packages (from requests<3,>=2.21.0->tensorboard<2.16,>=2.15->tensorflow-macos==2.15.0->tensorflow) (3.6)\n",
            "Requirement already satisfied: urllib3<3,>=1.21.1 in ./.conda/lib/python3.11/site-packages (from requests<3,>=2.21.0->tensorboard<2.16,>=2.15->tensorflow-macos==2.15.0->tensorflow) (2.2.1)\n",
            "Requirement already satisfied: certifi>=2017.4.17 in ./.conda/lib/python3.11/site-packages (from requests<3,>=2.21.0->tensorboard<2.16,>=2.15->tensorflow-macos==2.15.0->tensorflow) (2024.2.2)\n",
            "Requirement already satisfied: MarkupSafe>=2.1.1 in ./.conda/lib/python3.11/site-packages (from werkzeug>=1.0.1->tensorboard<2.16,>=2.15->tensorflow-macos==2.15.0->tensorflow) (2.1.5)\n",
            "Requirement already satisfied: pyasn1<0.6.0,>=0.4.6 in ./.conda/lib/python3.11/site-packages (from pyasn1-modules>=0.2.1->google-auth<3,>=1.6.3->tensorboard<2.16,>=2.15->tensorflow-macos==2.15.0->tensorflow) (0.5.1)\n",
            "Requirement already satisfied: oauthlib>=3.0.0 in ./.conda/lib/python3.11/site-packages (from requests-oauthlib>=0.7.0->google-auth-oauthlib<2,>=0.5->tensorboard<2.16,>=2.15->tensorflow-macos==2.15.0->tensorflow) (3.2.2)\n"
          ]
        }
      ],
      "source": [
        "!pip install pandas\n",
        "!pip install numpy\n",
        "!pip install matplotlib\n",
        "!pip install scikit-learn\n",
        "!pip install tensorflow"
      ]
    },
    {
      "cell_type": "code",
      "execution_count": 114,
      "metadata": {
        "id": "nRSlxT4q5EHJ"
      },
      "outputs": [],
      "source": [
        "import pandas as pd\n",
        "import numpy as np\n",
        "import matplotlib.pyplot as plt\n",
        "from sklearn.preprocessing import MinMaxScaler\n",
        "import random\n",
        "import os\n"
      ]
    },
    {
      "cell_type": "code",
      "execution_count": 118,
      "metadata": {},
      "outputs": [],
      "source": [
        "from main import CustomisedHighSpeedAIMDAlgorithm, Simulation\n",
        "# Create a simulation for the pro-active approach\n",
        "random.seed(100)\n",
        "# create a customisedAIMDAlgo\n",
        "customisedAIMDAlgo = CustomisedHighSpeedAIMDAlgorithm(1, 0.5, 1)\n",
        "\n",
        "# run a simulation with the customisedAIMDAlgo and retrieve the maxBandwidthHistory and numOfSourcesHistory\n",
        "customisedSimulation = Simulation(10, 4000, 200, customisedAIMDAlgo, True)\n",
        "customisedSimulation.run()\n",
        "\n",
        "maxBandwidthHistory = customisedSimulation.maxBandwidthHistory\n",
        "numOfSourcesHistory = customisedSimulation.numOfSourcesHistory\n",
        "\n",
        "if not os.path.exists('data'):\n",
        "    os.makedirs('data')\n",
        "\n",
        "# Export maxBandwidthHistory_df to a CSV file\n",
        "maxBandwidthHistory_df = pd.DataFrame({'Index': range(len(maxBandwidthHistory)), 'MaxBandwidth': maxBandwidthHistory})\n",
        "maxBandwidthHistory_df.to_csv('data/maxBandwidthHistory.csv', index=False)\n",
        "\n",
        "# Export numOfSourcesHistory_df to a CSV file\n",
        "numOfSourcesHistory_df = pd.DataFrame({'Index': range(len(numOfSourcesHistory)), 'NumOfSources': numOfSourcesHistory})\n",
        "numOfSourcesHistory_df.to_csv('data/numOfSourcesHistory.csv', index=False)\n"
      ]
    },
    {
      "cell_type": "code",
      "execution_count": 119,
      "metadata": {
        "id": "2fRF6mEW5QbK"
      },
      "outputs": [
        {
          "data": {
            "text/html": [
              "<div>\n",
              "<style scoped>\n",
              "    .dataframe tbody tr th:only-of-type {\n",
              "        vertical-align: middle;\n",
              "    }\n",
              "\n",
              "    .dataframe tbody tr th {\n",
              "        vertical-align: top;\n",
              "    }\n",
              "\n",
              "    .dataframe thead th {\n",
              "        text-align: right;\n",
              "    }\n",
              "</style>\n",
              "<table border=\"1\" class=\"dataframe\">\n",
              "  <thead>\n",
              "    <tr style=\"text-align: right;\">\n",
              "      <th></th>\n",
              "      <th>Index</th>\n",
              "      <th>MaxBandwidth</th>\n",
              "    </tr>\n",
              "  </thead>\n",
              "  <tbody>\n",
              "    <tr>\n",
              "      <th>1157</th>\n",
              "      <td>1157</td>\n",
              "      <td>748</td>\n",
              "    </tr>\n",
              "    <tr>\n",
              "      <th>3999</th>\n",
              "      <td>3999</td>\n",
              "      <td>572</td>\n",
              "    </tr>\n",
              "    <tr>\n",
              "      <th>2181</th>\n",
              "      <td>2181</td>\n",
              "      <td>917</td>\n",
              "    </tr>\n",
              "    <tr>\n",
              "      <th>2663</th>\n",
              "      <td>2663</td>\n",
              "      <td>510</td>\n",
              "    </tr>\n",
              "    <tr>\n",
              "      <th>486</th>\n",
              "      <td>486</td>\n",
              "      <td>705</td>\n",
              "    </tr>\n",
              "    <tr>\n",
              "      <th>1159</th>\n",
              "      <td>1159</td>\n",
              "      <td>748</td>\n",
              "    </tr>\n",
              "    <tr>\n",
              "      <th>2031</th>\n",
              "      <td>2031</td>\n",
              "      <td>559</td>\n",
              "    </tr>\n",
              "    <tr>\n",
              "      <th>2348</th>\n",
              "      <td>2348</td>\n",
              "      <td>812</td>\n",
              "    </tr>\n",
              "    <tr>\n",
              "      <th>2982</th>\n",
              "      <td>2982</td>\n",
              "      <td>12</td>\n",
              "    </tr>\n",
              "    <tr>\n",
              "      <th>3962</th>\n",
              "      <td>3962</td>\n",
              "      <td>658</td>\n",
              "    </tr>\n",
              "  </tbody>\n",
              "</table>\n",
              "</div>"
            ],
            "text/plain": [
              "      Index  MaxBandwidth\n",
              "1157   1157           748\n",
              "3999   3999           572\n",
              "2181   2181           917\n",
              "2663   2663           510\n",
              "486     486           705\n",
              "1159   1159           748\n",
              "2031   2031           559\n",
              "2348   2348           812\n",
              "2982   2982            12\n",
              "3962   3962           658"
            ]
          },
          "execution_count": 119,
          "metadata": {},
          "output_type": "execute_result"
        }
      ],
      "source": [
        "maxBandwidthHistory_df.sample(10)"
      ]
    },
    {
      "cell_type": "code",
      "execution_count": 117,
      "metadata": {
        "colab": {
          "base_uri": "https://localhost:8080/",
          "height": 228
        },
        "id": "agtLk7dO5SsM",
        "outputId": "c10fc828-0a87-49c6-a562-4811d8c01f20"
      },
      "outputs": [
        {
          "data": {
            "text/html": [
              "<div>\n",
              "<style scoped>\n",
              "    .dataframe tbody tr th:only-of-type {\n",
              "        vertical-align: middle;\n",
              "    }\n",
              "\n",
              "    .dataframe tbody tr th {\n",
              "        vertical-align: top;\n",
              "    }\n",
              "\n",
              "    .dataframe thead th {\n",
              "        text-align: right;\n",
              "    }\n",
              "</style>\n",
              "<table border=\"1\" class=\"dataframe\">\n",
              "  <thead>\n",
              "    <tr style=\"text-align: right;\">\n",
              "      <th></th>\n",
              "      <th>Index</th>\n",
              "      <th>NumOfSources</th>\n",
              "    </tr>\n",
              "  </thead>\n",
              "  <tbody>\n",
              "    <tr>\n",
              "      <th>2880</th>\n",
              "      <td>2880</td>\n",
              "      <td>2</td>\n",
              "    </tr>\n",
              "    <tr>\n",
              "      <th>937</th>\n",
              "      <td>937</td>\n",
              "      <td>1</td>\n",
              "    </tr>\n",
              "    <tr>\n",
              "      <th>2935</th>\n",
              "      <td>2935</td>\n",
              "      <td>6</td>\n",
              "    </tr>\n",
              "    <tr>\n",
              "      <th>2401</th>\n",
              "      <td>2401</td>\n",
              "      <td>0</td>\n",
              "    </tr>\n",
              "    <tr>\n",
              "      <th>1594</th>\n",
              "      <td>1594</td>\n",
              "      <td>9</td>\n",
              "    </tr>\n",
              "    <tr>\n",
              "      <th>3974</th>\n",
              "      <td>3974</td>\n",
              "      <td>5</td>\n",
              "    </tr>\n",
              "    <tr>\n",
              "      <th>2126</th>\n",
              "      <td>2126</td>\n",
              "      <td>3</td>\n",
              "    </tr>\n",
              "    <tr>\n",
              "      <th>3541</th>\n",
              "      <td>3541</td>\n",
              "      <td>5</td>\n",
              "    </tr>\n",
              "    <tr>\n",
              "      <th>90</th>\n",
              "      <td>90</td>\n",
              "      <td>7</td>\n",
              "    </tr>\n",
              "    <tr>\n",
              "      <th>140</th>\n",
              "      <td>140</td>\n",
              "      <td>8</td>\n",
              "    </tr>\n",
              "  </tbody>\n",
              "</table>\n",
              "</div>"
            ],
            "text/plain": [
              "      Index  NumOfSources\n",
              "2880   2880             2\n",
              "937     937             1\n",
              "2935   2935             6\n",
              "2401   2401             0\n",
              "1594   1594             9\n",
              "3974   3974             5\n",
              "2126   2126             3\n",
              "3541   3541             5\n",
              "90       90             7\n",
              "140     140             8"
            ]
          },
          "execution_count": 117,
          "metadata": {},
          "output_type": "execute_result"
        }
      ],
      "source": [
        "numOfSourcesHistory_df.sample(10)"
      ]
    },
    {
      "cell_type": "code",
      "execution_count": 89,
      "metadata": {
        "colab": {
          "base_uri": "https://localhost:8080/",
          "height": 405
        },
        "id": "b1h7L_TG5tJK",
        "outputId": "908b0648-4938-4d40-d153-daf89de15aa4"
      },
      "outputs": [
        {
          "data": {
            "text/plain": [
              "<Axes: >"
            ]
          },
          "execution_count": 89,
          "metadata": {},
          "output_type": "execute_result"
        },
        {
          "data": {
            "image/png": "[encoded data removed]",
            "text/plain": [
              "<Figure size 1200x600 with 1 Axes>"
            ]
          },
          "metadata": {},
          "output_type": "display_data"
        }
      ],
      "source": [
        "numOfSourcesHistory_df['NumOfSources'].plot(figsize=(12,6))\n"
      ]
    },
    {
      "cell_type": "code",
      "execution_count": 120,
      "metadata": {
        "id": "dtAgIrE66u6x"
      },
      "outputs": [],
      "source": [
        "bandWidth_scaler = MinMaxScaler()\n",
        "numOfSources_scaler = MinMaxScaler()"
      ]
    },
    {
      "cell_type": "code",
      "execution_count": 121,
      "metadata": {
        "id": "ijgmVYgC6zBz"
      },
      "outputs": [],
      "source": [
        "bandWidth_scaler.fit(maxBandwidthHistory_df[['MaxBandwidth']])\n",
        "maxBandwidthHistory_scaled_train = bandWidth_scaler.transform(maxBandwidthHistory_df[['MaxBandwidth']])\n",
        "\n",
        "numOfSources_scaler.fit(numOfSourcesHistory_df[['NumOfSources']])\n",
        "numOfSourcesHistory_scaled_train = numOfSources_scaler.transform(numOfSourcesHistory_df[['NumOfSources']])\n"
      ]
    },
    {
      "cell_type": "code",
      "execution_count": 122,
      "metadata": {
        "colab": {
          "base_uri": "https://localhost:8080/"
        },
        "id": "BrdKbJ3g6-Et",
        "outputId": "ec956dda-aab6-433c-d846-523769fa65e7"
      },
      "outputs": [
        {
          "data": {
            "text/plain": [
              "(array([[0.20040486],\n",
              "        [0.20040486],\n",
              "        [0.20040486],\n",
              "        [0.20040486],\n",
              "        [0.20040486],\n",
              "        [0.20040486],\n",
              "        [0.20040486],\n",
              "        [0.20040486],\n",
              "        [0.20040486],\n",
              "        [0.20040486]]),\n",
              " array([[1.],\n",
              "        [1.],\n",
              "        [1.],\n",
              "        [1.],\n",
              "        [1.],\n",
              "        [1.],\n",
              "        [1.],\n",
              "        [1.],\n",
              "        [1.],\n",
              "        [1.]]))"
            ]
          },
          "execution_count": 122,
          "metadata": {},
          "output_type": "execute_result"
        }
      ],
      "source": [
        "maxBandwidthHistory_scaled_train[:10],numOfSourcesHistory_scaled_train[:10]"
      ]
    },
    {
      "cell_type": "code",
      "execution_count": 123,
      "metadata": {
        "id": "0xryZ7rR62y5"
      },
      "outputs": [],
      "source": [
        "from keras.utils import timeseries_dataset_from_array"
      ]
    },
    {
      "cell_type": "code",
      "execution_count": 124,
      "metadata": {},
      "outputs": [],
      "source": [
        "seqLen = 64\n",
        "maxBandwidthBatchedDataset = timeseries_dataset_from_array(\n",
        "    maxBandwidthHistory_scaled_train[0:-seqLen], \n",
        "    maxBandwidthHistory_scaled_train[seqLen:], \n",
        "    sequence_length=seqLen, \n",
        "    sampling_rate=1, \n",
        "    batch_size=1)\n",
        "numOfSourceBatchedDataset = timeseries_dataset_from_array(\n",
        "    numOfSourcesHistory_scaled_train[0:-seqLen], \n",
        "    numOfSourcesHistory_scaled_train[seqLen:], \n",
        "    sequence_length=seqLen, \n",
        "    sampling_rate=1, \n",
        "    batch_size=1)"
      ]
    },
    {
      "cell_type": "code",
      "execution_count": 94,
      "metadata": {
        "id": "CqyTKCVt69Z9"
      },
      "outputs": [
        {
          "data": {
            "text/plain": [
              "(array([[[0.7],\n",
              "         [0.7],\n",
              "         [0.7],\n",
              "         [0.7],\n",
              "         [0.7],\n",
              "         [0.7],\n",
              "         [0.7],\n",
              "         [0.7],\n",
              "         [0.8],\n",
              "         [0.8],\n",
              "         [0.8],\n",
              "         [0.8],\n",
              "         [0.8],\n",
              "         [0.8],\n",
              "         [0.8],\n",
              "         [0.8],\n",
              "         [0.8],\n",
              "         [0.8],\n",
              "         [0.8],\n",
              "         [0.8],\n",
              "         [0.8],\n",
              "         [0.8],\n",
              "         [0.8],\n",
              "         [0.8],\n",
              "         [0.8],\n",
              "         [0.8],\n",
              "         [0.8],\n",
              "         [0.8],\n",
              "         [0.8],\n",
              "         [0.8],\n",
              "         [0.8],\n",
              "         [0.8],\n",
              "         [0.7],\n",
              "         [0.7],\n",
              "         [0.7],\n",
              "         [0.7],\n",
              "         [0.7],\n",
              "         [0.7],\n",
              "         [0.8],\n",
              "         [0.8],\n",
              "         [0.8],\n",
              "         [0.8],\n",
              "         [0.8],\n",
              "         [0.8],\n",
              "         [0.8],\n",
              "         [0.8],\n",
              "         [0.8],\n",
              "         [0.8],\n",
              "         [0.8],\n",
              "         [0.8],\n",
              "         [0.8],\n",
              "         [0.8],\n",
              "         [0.9],\n",
              "         [0.9],\n",
              "         [0.9],\n",
              "         [0.9],\n",
              "         [0.9],\n",
              "         [0.9],\n",
              "         [0.9],\n",
              "         [0.9],\n",
              "         [0.9],\n",
              "         [0.9],\n",
              "         [1. ],\n",
              "         [1. ],\n",
              "         [1. ],\n",
              "         [1. ],\n",
              "         [1. ],\n",
              "         [1. ],\n",
              "         [1. ],\n",
              "         [1. ],\n",
              "         [1. ],\n",
              "         [1. ],\n",
              "         [1. ],\n",
              "         [1. ],\n",
              "         [1. ],\n",
              "         [1. ],\n",
              "         [1. ],\n",
              "         [1. ],\n",
              "         [1. ],\n",
              "         [1. ],\n",
              "         [1. ],\n",
              "         [1. ],\n",
              "         [1. ],\n",
              "         [1. ],\n",
              "         [1. ],\n",
              "         [1. ],\n",
              "         [1. ],\n",
              "         [1. ],\n",
              "         [1. ],\n",
              "         [1. ],\n",
              "         [1. ],\n",
              "         [1. ],\n",
              "         [1. ],\n",
              "         [1. ],\n",
              "         [1. ],\n",
              "         [1. ],\n",
              "         [1. ],\n",
              "         [1. ],\n",
              "         [1. ],\n",
              "         [0.9],\n",
              "         [0.9],\n",
              "         [0.9],\n",
              "         [0.9],\n",
              "         [0.9],\n",
              "         [0.9],\n",
              "         [0.9],\n",
              "         [0.9],\n",
              "         [1. ],\n",
              "         [1. ],\n",
              "         [1. ],\n",
              "         [1. ],\n",
              "         [1. ],\n",
              "         [1. ],\n",
              "         [1. ],\n",
              "         [1. ],\n",
              "         [1. ],\n",
              "         [1. ],\n",
              "         [1. ],\n",
              "         [1. ],\n",
              "         [0.9],\n",
              "         [0.9],\n",
              "         [0.9],\n",
              "         [0.9],\n",
              "         [0.9],\n",
              "         [0.9],\n",
              "         [0.9],\n",
              "         [0.9],\n",
              "         [0.9]]]),\n",
              " array([[0.9]]))"
            ]
          },
          "execution_count": 94,
          "metadata": {},
          "output_type": "execute_result"
        }
      ],
      "source": [
        "example = list(numOfSourceBatchedDataset.as_numpy_iterator())\n",
        "example[100]\n",
        "\n"
      ]
    },
    {
      "cell_type": "code",
      "execution_count": 125,
      "metadata": {
        "id": "bzIs_l_k7Zqg"
      },
      "outputs": [],
      "source": [
        "from keras.models import Sequential\n",
        "from keras.layers import Dense\n",
        "from keras.layers import LSTM"
      ]
    },
    {
      "cell_type": "code",
      "execution_count": 126,
      "metadata": {
        "id": "eJa-wFQf7jw6"
      },
      "outputs": [],
      "source": [
        "# define model\n",
        "bandWidthModel = Sequential()\n",
        "bandWidthModel.add(LSTM(128, activation='relu', input_shape=(seqLen, 1)))\n",
        "bandWidthModel.add(Dense(1))\n",
        "bandWidthModel.compile(optimizer='adam', loss='mse')\n",
        "\n",
        "numOfSourcesModel = Sequential()\n",
        "numOfSourcesModel.add(LSTM(128, activation='relu', input_shape=(seqLen, 1)))\n",
        "numOfSourcesModel.add(Dense(1))\n",
        "numOfSourcesModel.compile(optimizer='adam', loss='mse')"
      ]
    },
    {
      "cell_type": "code",
      "execution_count": 128,
      "metadata": {
        "colab": {
          "base_uri": "https://localhost:8080/"
        },
        "id": "p8yqUZaz7nwp",
        "outputId": "94c9f117-53be-438c-ba31-d7c7fa546f42"
      },
      "outputs": [
        {
          "name": "stdout",
          "output_type": "stream",
          "text": [
            "Epoch 1/25\n",
            "3873/3873 [==============================] - 53s 14ms/step - loss: 0.0081\n",
            "Epoch 2/25\n",
            "3873/3873 [==============================] - 50s 13ms/step - loss: 0.0081\n",
            "Epoch 3/25\n",
            "3873/3873 [==============================] - 50s 13ms/step - loss: 0.0081\n",
            "Epoch 4/25\n",
            "3873/3873 [==============================] - 50s 13ms/step - loss: 0.0081\n",
            "Epoch 5/25\n",
            "3873/3873 [==============================] - 51s 13ms/step - loss: 0.0081\n",
            "Epoch 6/25\n",
            "3873/3873 [==============================] - 50s 13ms/step - loss: 0.0081\n",
            "Epoch 7/25\n",
            "3873/3873 [==============================] - 54s 14ms/step - loss: 0.0082\n",
            "Epoch 8/25\n",
            "3873/3873 [==============================] - 57s 15ms/step - loss: 0.0079\n",
            "Epoch 9/25\n",
            "3873/3873 [==============================] - 54s 14ms/step - loss: 0.0080\n",
            "Epoch 10/25\n",
            "3873/3873 [==============================] - 56s 15ms/step - loss: 0.0080\n",
            "Epoch 11/25\n",
            "3873/3873 [==============================] - 55s 14ms/step - loss: 0.0082\n",
            "Epoch 12/25\n",
            "3873/3873 [==============================] - 65s 17ms/step - loss: 0.0079\n",
            "Epoch 13/25\n",
            "3873/3873 [==============================] - 58s 15ms/step - loss: 0.0079\n",
            "Epoch 14/25\n",
            "3873/3873 [==============================] - 59s 15ms/step - loss: 0.0079\n",
            "Epoch 15/25\n",
            "3873/3873 [==============================] - 62s 16ms/step - loss: 0.0079\n",
            "Epoch 16/25\n",
            "3873/3873 [==============================] - 56s 14ms/step - loss: 0.0079\n",
            "Epoch 17/25\n",
            "3873/3873 [==============================] - 60s 16ms/step - loss: 0.0078\n",
            "Epoch 18/25\n",
            "3873/3873 [==============================] - 52s 13ms/step - loss: 0.0078\n",
            "Epoch 19/25\n",
            "3873/3873 [==============================] - 55s 14ms/step - loss: 0.0078\n",
            "Epoch 20/25\n",
            "3873/3873 [==============================] - 56s 14ms/step - loss: 0.0078\n",
            "Epoch 21/25\n",
            "3873/3873 [==============================] - 59s 15ms/step - loss: 0.0078\n",
            "Epoch 22/25\n",
            "3873/3873 [==============================] - 57s 15ms/step - loss: 0.0078\n",
            "Epoch 23/25\n",
            "3873/3873 [==============================] - 60s 16ms/step - loss: 0.0078\n",
            "Epoch 24/25\n",
            "3873/3873 [==============================] - 56s 14ms/step - loss: 0.0079\n",
            "Epoch 25/25\n",
            "3873/3873 [==============================] - 57s 15ms/step - loss: 0.0079\n"
          ]
        },
        {
          "data": {
            "text/plain": [
              "<keras.src.callbacks.History at 0x15647bb10>"
            ]
          },
          "execution_count": 128,
          "metadata": {},
          "output_type": "execute_result"
        }
      ],
      "source": [
        "# fit model\n",
        "bandWidthModel.fit(maxBandwidthBatchedDataset,epochs=25)"
      ]
    },
    {
      "cell_type": "code",
      "execution_count": 129,
      "metadata": {},
      "outputs": [
        {
          "name": "stderr",
          "output_type": "stream",
          "text": [
            "/Users/lenson/Documents/GitHub/NTU/SC4052-CloudComputing/.conda/lib/python3.11/site-packages/keras/src/engine/training.py:3103: UserWarning: You are saving your model as an HDF5 file via `model.save()`. This file format is considered legacy. We recommend using instead the native Keras format, e.g. `model.save('my_model.keras')`.\n",
            "  saving_api.save_model(\n"
          ]
        }
      ],
      "source": [
        "if not os.path.exists('models'):\n",
        "    os.makedirs('models')\n",
        "\n",
        "# Save bandWidthModel\n",
        "bandWidthModel.save('models/bandWidthModel.h5')"
      ]
    },
    {
      "cell_type": "code",
      "execution_count": 130,
      "metadata": {},
      "outputs": [
        {
          "name": "stdout",
          "output_type": "stream",
          "text": [
            "Epoch 1/25\n",
            "3873/3873 [==============================] - 59s 15ms/step - loss: 0.0051\n",
            "Epoch 2/25\n",
            "3873/3873 [==============================] - 52s 13ms/step - loss: 0.0024\n",
            "Epoch 3/25\n",
            "3873/3873 [==============================] - 53s 14ms/step - loss: 0.0015\n",
            "Epoch 4/25\n",
            "3873/3873 [==============================] - 52s 13ms/step - loss: 0.0011\n",
            "Epoch 5/25\n",
            "3873/3873 [==============================] - 52s 13ms/step - loss: 0.0010\n",
            "Epoch 6/25\n",
            "3873/3873 [==============================] - 52s 13ms/step - loss: 0.0011\n",
            "Epoch 7/25\n",
            "3873/3873 [==============================] - 52s 13ms/step - loss: 9.8485e-04\n",
            "Epoch 8/25\n",
            "3873/3873 [==============================] - 52s 13ms/step - loss: 9.2948e-04\n",
            "Epoch 9/25\n",
            "3873/3873 [==============================] - 52s 13ms/step - loss: 9.5242e-04\n",
            "Epoch 10/25\n",
            "3873/3873 [==============================] - 52s 13ms/step - loss: 9.4827e-04\n",
            "Epoch 11/25\n",
            "3873/3873 [==============================] - 52s 13ms/step - loss: 9.4311e-04\n",
            "Epoch 12/25\n",
            "3873/3873 [==============================] - 52s 13ms/step - loss: 9.2351e-04\n",
            "Epoch 13/25\n",
            "3873/3873 [==============================] - 52s 13ms/step - loss: 9.0377e-04\n",
            "Epoch 14/25\n",
            "3873/3873 [==============================] - 52s 13ms/step - loss: 9.0827e-04\n",
            "Epoch 15/25\n",
            "3873/3873 [==============================] - 52s 13ms/step - loss: 9.3051e-04\n",
            "Epoch 16/25\n",
            "3873/3873 [==============================] - 50s 13ms/step - loss: 9.6503e-04\n",
            "Epoch 17/25\n",
            "3873/3873 [==============================] - 51s 13ms/step - loss: 9.0141e-04\n",
            "Epoch 18/25\n",
            "3873/3873 [==============================] - 51s 13ms/step - loss: 8.8729e-04\n",
            "Epoch 19/25\n",
            "3873/3873 [==============================] - 50s 13ms/step - loss: 8.9838e-04\n",
            "Epoch 20/25\n",
            "3873/3873 [==============================] - 51s 13ms/step - loss: 9.1896e-04\n",
            "Epoch 21/25\n",
            "3873/3873 [==============================] - 51s 13ms/step - loss: 9.2274e-04\n",
            "Epoch 22/25\n",
            "3873/3873 [==============================] - 51s 13ms/step - loss: 9.1857e-04\n",
            "Epoch 23/25\n",
            "3873/3873 [==============================] - 51s 13ms/step - loss: 9.2069e-04\n",
            "Epoch 24/25\n",
            "3873/3873 [==============================] - 51s 13ms/step - loss: 9.7404e-04\n",
            "Epoch 25/25\n",
            "3873/3873 [==============================] - 50s 13ms/step - loss: 9.7838e-04\n"
          ]
        },
        {
          "data": {
            "text/plain": [
              "<keras.src.callbacks.History at 0x29a5a2b50>"
            ]
          },
          "execution_count": 130,
          "metadata": {},
          "output_type": "execute_result"
        }
      ],
      "source": [
        "numOfSourcesModel.fit(numOfSourceBatchedDataset,epochs=25)"
      ]
    },
    {
      "cell_type": "code",
      "execution_count": 131,
      "metadata": {},
      "outputs": [],
      "source": [
        "# Save bandWidthModel\n",
        "numOfSourcesModel.save('models/numOfSourcesModel.h5')"
      ]
    },
    {
      "cell_type": "code",
      "execution_count": 134,
      "metadata": {
        "id": "_MP-5Wez8jbY"
      },
      "outputs": [
        {
          "name": "stdout",
          "output_type": "stream",
          "text": [
            "1/1 [==============================] - 0s 142ms/step\n"
          ]
        },
        {
          "name": "stderr",
          "output_type": "stream",
          "text": [
            "/Users/lenson/Documents/GitHub/NTU/SC4052-CloudComputing/.conda/lib/python3.11/site-packages/sklearn/base.py:493: UserWarning: X does not have valid feature names, but MinMaxScaler was fitted with feature names\n",
            "  warnings.warn(\n"
          ]
        },
        {
          "name": "stdout",
          "output_type": "stream",
          "text": [
            "1/1 [==============================] - 0s 18ms/step\n",
            "1/1 [==============================] - 0s 16ms/step\n",
            "1/1 [==============================] - 0s 16ms/step\n",
            "1/1 [==============================] - 0s 15ms/step\n",
            "1/1 [==============================] - 0s 15ms/step\n",
            "1/1 [==============================] - 0s 15ms/step\n",
            "1/1 [==============================] - 0s 15ms/step\n",
            "1/1 [==============================] - 0s 16ms/step\n",
            "1/1 [==============================] - 0s 15ms/step\n"
          ]
        }
      ],
      "source": [
        "test_predictions = []\n",
        "\n",
        "first_eval_batch = bandWidth_scaler.transform([[300] for _ in range(32)] + [[400] for _ in range(32)])\n",
        "current_batch = first_eval_batch.reshape((1, 64, 1))\n",
        "for i in range(10):\n",
        "    \n",
        "    # get the prediction value for the first batch\n",
        "    current_pred = bandWidthModel.predict(current_batch)[0]\n",
        "\n",
        "    # append the prediction into the array\n",
        "    test_predictions.append(current_pred) \n",
        "\n",
        "    # use the prediction to update the batch and remove the first value\n",
        "    actual = first_eval_batch[i]\n",
        "    formatActual = actual.reshape((1, 1, 1))\n",
        "    current_batch = np.append(current_batch[:,1:,:],formatActual,axis=1)"
      ]
    },
    {
      "cell_type": "code",
      "execution_count": 135,
      "metadata": {},
      "outputs": [
        {
          "data": {
            "text/plain": [
              "[array([[440.17247641],\n",
              "        [345.16183782],\n",
              "        [332.45056319],\n",
              "        [333.68980205],\n",
              "        [334.50486064],\n",
              "        [335.17949748],\n",
              "        [335.86025882],\n",
              "        [336.50094593],\n",
              "        [337.08268476],\n",
              "        [337.595788  ]]),\n",
              " array([[440.17247641],\n",
              "        [345.16183782],\n",
              "        [332.45056319],\n",
              "        [333.68980205],\n",
              "        [334.50486064],\n",
              "        [335.17949748],\n",
              "        [335.86025882],\n",
              "        [336.50094593],\n",
              "        [337.08268476],\n",
              "        [337.595788  ]]),\n",
              " array([[440.17247641],\n",
              "        [345.16183782],\n",
              "        [332.45056319],\n",
              "        [333.68980205],\n",
              "        [334.50486064],\n",
              "        [335.17949748],\n",
              "        [335.86025882],\n",
              "        [336.50094593],\n",
              "        [337.08268476],\n",
              "        [337.595788  ]]),\n",
              " array([[440.17247641],\n",
              "        [345.16183782],\n",
              "        [332.45056319],\n",
              "        [333.68980205],\n",
              "        [334.50486064],\n",
              "        [335.17949748],\n",
              "        [335.86025882],\n",
              "        [336.50094593],\n",
              "        [337.08268476],\n",
              "        [337.595788  ]]),\n",
              " array([[440.17247641],\n",
              "        [345.16183782],\n",
              "        [332.45056319],\n",
              "        [333.68980205],\n",
              "        [334.50486064],\n",
              "        [335.17949748],\n",
              "        [335.86025882],\n",
              "        [336.50094593],\n",
              "        [337.08268476],\n",
              "        [337.595788  ]]),\n",
              " array([[440.17247641],\n",
              "        [345.16183782],\n",
              "        [332.45056319],\n",
              "        [333.68980205],\n",
              "        [334.50486064],\n",
              "        [335.17949748],\n",
              "        [335.86025882],\n",
              "        [336.50094593],\n",
              "        [337.08268476],\n",
              "        [337.595788  ]]),\n",
              " array([[440.17247641],\n",
              "        [345.16183782],\n",
              "        [332.45056319],\n",
              "        [333.68980205],\n",
              "        [334.50486064],\n",
              "        [335.17949748],\n",
              "        [335.86025882],\n",
              "        [336.50094593],\n",
              "        [337.08268476],\n",
              "        [337.595788  ]]),\n",
              " array([[440.17247641],\n",
              "        [345.16183782],\n",
              "        [332.45056319],\n",
              "        [333.68980205],\n",
              "        [334.50486064],\n",
              "        [335.17949748],\n",
              "        [335.86025882],\n",
              "        [336.50094593],\n",
              "        [337.08268476],\n",
              "        [337.595788  ]]),\n",
              " array([[440.17247641],\n",
              "        [345.16183782],\n",
              "        [332.45056319],\n",
              "        [333.68980205],\n",
              "        [334.50486064],\n",
              "        [335.17949748],\n",
              "        [335.86025882],\n",
              "        [336.50094593],\n",
              "        [337.08268476],\n",
              "        [337.595788  ]]),\n",
              " array([[440.17247641],\n",
              "        [345.16183782],\n",
              "        [332.45056319],\n",
              "        [333.68980205],\n",
              "        [334.50486064],\n",
              "        [335.17949748],\n",
              "        [335.86025882],\n",
              "        [336.50094593],\n",
              "        [337.08268476],\n",
              "        [337.595788  ]])]"
            ]
          },
          "execution_count": 135,
          "metadata": {},
          "output_type": "execute_result"
        }
      ],
      "source": [
        "results = []\n",
        "for _ in range(10):\n",
        "    results.append(bandWidth_scaler.inverse_transform(test_predictions))\n",
        "results"
      ]
    },
    {
      "cell_type": "code",
      "execution_count": 136,
      "metadata": {
        "colab": {
          "base_uri": "https://localhost:8080/"
        },
        "id": "_mhvFuEy8sB7",
        "outputId": "e65693ce-1c66-46b1-91e2-069e239ca984"
      },
      "outputs": [
        {
          "data": {
            "text/plain": [
              "[array([0.4434944], dtype=float32),\n",
              " array([0.3473298], dtype=float32),\n",
              " array([0.33446413], dtype=float32),\n",
              " array([0.33571842], dtype=float32),\n",
              " array([0.33654338], dtype=float32),\n",
              " array([0.3372262], dtype=float32),\n",
              " array([0.33791524], dtype=float32),\n",
              " array([0.3385637], dtype=float32),\n",
              " array([0.33915251], dtype=float32),\n",
              " array([0.33967185], dtype=float32)]"
            ]
          },
          "execution_count": 136,
          "metadata": {},
          "output_type": "execute_result"
        }
      ],
      "source": [
        "test_predictions"
      ]
    }
  ],
  "metadata": {
    "colab": {
      "collapsed_sections": [],
      "name": "RNN_Youtube.ipynb",
      "provenance": []
    },
    "kernelspec": {
      "display_name": "Python 3",
      "name": "python3"
    },
    "language_info": {
      "codemirror_mode": {
        "name": "ipython",
        "version": 3
      },
      "file_extension": ".py",
      "mimetype": "text/x-python",
      "name": "python",
      "nbconvert_exporter": "python",
      "pygments_lexer": "ipython3",
      "version": "3.11.7"
    }
  },
  "nbformat": 4,
  "nbformat_minor": 0
}
